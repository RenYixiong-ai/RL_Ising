{
 "cells": [
  {
   "cell_type": "code",
   "execution_count": null,
   "metadata": {},
   "outputs": [],
   "source": [
    "import numpy as np\n",
    "import matplotlib.pyplot as plt\n",
    "#import numba as nb\n",
    "from tqdm import tqdm"
   ]
  },
  {
   "cell_type": "code",
   "execution_count": null,
   "metadata": {},
   "outputs": [],
   "source": [
    "\"\"\"\n",
    "不可使用numba否则会出现问题\n",
    "spec = [\n",
    "    ('S', nb.int32[:, :]),\n",
    "    ('L', nb.int32),\n",
    "    ('epsilon', nb.float32),\n",
    "    ('alpha', nb.float32),\n",
    "    ('Q', nb.float32[:, :, :, :]),\n",
    "]\n",
    "\n",
    "@nb.experimental.jitclass(spec)\n",
    "\"\"\"\n",
    "class Simulation():\n",
    "    def __init__(self, L, S, epsilon, Q, alpha=0.05):\n",
    "        self.L = L\n",
    "        self.epsilon = epsilon\n",
    "        self.S = S\n",
    "        self.alpha = alpha\n",
    "        self.Q = Q\n",
    "\n",
    "    def update(self, time):\n",
    "        for _ in range(time):\n",
    "            for x in range(self.L):\n",
    "                for y in range(self.L):\n",
    "                    # 判断属于大多数or少数\n",
    "                    near = self.S[(x+1)%self.L, y]+S[(x-1)%self.L, y]+S[x, (y+1)%self.L]+S[x, (y-1)%self.L] #将0也划分为大多数\n",
    "                    if near == 0 : stat = 1\n",
    "                    else : stat = int((np.sign(self.S[x, y]*near)+1)/2)\n",
    "\n",
    "                    # 选择是否翻转\n",
    "                    if np.random.random() < self.epsilon :\n",
    "                        action = np.random.choice(2)\n",
    "                        if action == 1 : self.S[x, y] = -1 * self.S[x, y]\n",
    "                    else:\n",
    "                        if self.Q[x, y, stat, 1] < self.Q[x, y, stat, 0]:\n",
    "                            self.S[x, y] = -1 * self.S[x, y]\n",
    "                            action = 1\n",
    "                        else: action = 0\n",
    "\n",
    "                    # 更新\n",
    "                    if int((np.sign(self.S[x, y]*near)+1)/2) == 1 or near == 0 : c = 0\n",
    "                    else: c = 1\n",
    "\n",
    "                    self.Q[x, y, stat, action] = self.Q[x, y, stat, action] + self.alpha*(c-self.Q[x, y, stat, action])\n",
    "\n",
    "\n",
    "\n",
    "L = 16\n",
    "S = np.ones((L, L), dtype=np.int32)\n",
    "for i in range(L):\n",
    "    for j in range(L):\n",
    "        if np.random.choice((0, 1)):\n",
    "            S[i, j] *= -1\n",
    "Q = np.zeros((L, L, 2, 2), dtype=np.float32)\n",
    "epsilon = 0.2\n",
    "alpha = 0.05\n",
    "\n",
    "Ising = Simulation(L, S, epsilon, Q, alpha)"
   ]
  },
  {
   "cell_type": "code",
   "execution_count": null,
   "metadata": {},
   "outputs": [],
   "source": [
    "n_epsilon = 30\n",
    "n_init = 10000\n",
    "n_sum = 200\n",
    "n_realize = 1000\n",
    "\n",
    "epsilon_list = np.linspace(0.50, 0.05, n_epsilon)\n",
    "M_list = np.zeros(n_epsilon)\n",
    "for num, epsilon in tqdm(enumerate(epsilon_list)):\n",
    "    \n",
    "    Q = np.zeros((L, L, 2, 2), dtype=np.float32)\n",
    "    Ising.Q = Q\n",
    "    Ising.epsilon = epsilon\n",
    "\n",
    "    Ising.update(n_init)\n",
    "    for _ in range(n_sum):\n",
    "        M_list[num] += np.abs(np.sum(Ising.S)/L**2)\n",
    "        Ising.update(n_realize)\n",
    "\n",
    "    M_list[num] = M_list[num]/n_sum\n",
    "\n",
    "\n",
    "plt.plot(epsilon_list, M_list)\n",
    "plt.show()"
   ]
  }
 ],
 "metadata": {
  "kernelspec": {
   "display_name": "numba",
   "language": "python",
   "name": "python3"
  },
  "language_info": {
   "codemirror_mode": {
    "name": "ipython",
    "version": 3
   },
   "file_extension": ".py",
   "mimetype": "text/x-python",
   "name": "python",
   "nbconvert_exporter": "python",
   "pygments_lexer": "ipython3",
   "version": "3.8.13"
  },
  "orig_nbformat": 4,
  "vscode": {
   "interpreter": {
    "hash": "578a30ad3a608aa0656e32f392abc17e0a24d7d04726a47fa018ae5c0b59e1db"
   }
  }
 },
 "nbformat": 4,
 "nbformat_minor": 2
}
