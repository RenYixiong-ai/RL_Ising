{
 "cells": [
  {
   "cell_type": "code",
   "execution_count": null,
   "metadata": {},
   "outputs": [],
   "source": [
    "import numpy as np\n",
    "import matplotlib.pyplot as plt\n",
    "from tqdm import tqdm"
   ]
  },
  {
   "cell_type": "code",
   "execution_count": null,
   "metadata": {},
   "outputs": [],
   "source": [
    "# 晶格相关参数\n",
    "L = 16\n",
    "N = 2000\n",
    "\n",
    "#强化学习相关参数\n",
    "c = 1       #cost\n",
    "alpha = 0.05 #学习率\n",
    "epsilon = 0.10 #随机参数"
   ]
  },
  {
   "cell_type": "code",
   "execution_count": null,
   "metadata": {},
   "outputs": [],
   "source": [
    "S = np.random.choice([-1, 1], [L, L])\n",
    "Q = np.zeros([L, L, 2, 2])  #位置、位置、状态（与大多数状态相同为1,否则为0）、行动（改变为1,不变为0）"
   ]
  },
  {
   "cell_type": "code",
   "execution_count": null,
   "metadata": {},
   "outputs": [],
   "source": [
    "# 一次更新过程\n",
    "def update(time):\n",
    "    for x in range(L):\n",
    "        for y in range(L):\n",
    "            # 判断属于大多数or少数\n",
    "            near = S[(x+1)%L, y]+S[(x-1)%L, y]+S[x, (y+1)%L]+S[x, (y-1)%L] #将0也划分为大多数\n",
    "            if near == 0 : stat = 1\n",
    "            else : stat = int((np.sign(S[x, y]*near)+1)/2)\n",
    "\n",
    "            # 选择是否翻转\n",
    "            if np.random.random() < epsilon :\n",
    "                action = np.random.choice([1, 0])\n",
    "                if action == 1 : S[x, y] = -1 * S[x, y]\n",
    "            else:\n",
    "                if Q[x, y, stat, 1] < Q[x, y, stat, 0]:\n",
    "                    S[x, y] = -1 * S[x, y]\n",
    "                    action = 1\n",
    "                else: action = 0\n",
    "\n",
    "            # 更新\n",
    "            if int((np.sign(S[x, y]*near)+1)/2) == 1 or near == 0 : c = 0\n",
    "            else: c = 1\n",
    "\n",
    "            #print(stat, action)\n",
    "            Q[x, y, stat, action] = Q[x, y, stat, action] + alpha*(c-Q[x, y, stat, action])\n"
   ]
  },
  {
   "cell_type": "code",
   "execution_count": null,
   "metadata": {},
   "outputs": [],
   "source": [
    "n_epsilon = 10\n",
    "n_init = 1000\n",
    "n_sum = 200\n",
    "n_realize = 1000\n",
    "\n",
    "epsilon_list = np.linspace(0.20, 0.10, n_epsilon)\n",
    "M_list = np.zeros(n_epsilon)\n",
    "for num, epsilon in tqdm(enumerate(epsilon_list)):\n",
    "    Q = np.zeros([L, L, 2, 2])\n",
    "    update(n_init)\n",
    "    for _ in range(n_sum):\n",
    "        M_list[num] += np.abs(np.sum(S)/L**2)\n",
    "        update(n_realize)\n",
    "\n",
    "    M_list[num] = M_list[num]/n_sum\n",
    "\n",
    "\n",
    "plt.plot(epsilon_list, M_list)\n",
    "plt.show()\n"
   ]
  }
 ],
 "metadata": {
  "kernelspec": {
   "display_name": "torch",
   "language": "python",
   "name": "python3"
  },
  "language_info": {
   "codemirror_mode": {
    "name": "ipython",
    "version": 3
   },
   "file_extension": ".py",
   "mimetype": "text/x-python",
   "name": "python",
   "nbconvert_exporter": "python",
   "pygments_lexer": "ipython3",
   "version": "3.8.13"
  },
  "orig_nbformat": 4,
  "vscode": {
   "interpreter": {
    "hash": "1d934fe860aa1be34e871b0ca34d1ec8ba420791acb927e7c991bd5b5d73d90d"
   }
  }
 },
 "nbformat": 4,
 "nbformat_minor": 2
}
