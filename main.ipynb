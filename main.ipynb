{
 "cells": [
  {
   "cell_type": "code",
   "execution_count": 1,
   "metadata": {},
   "outputs": [],
   "source": [
    "import numpy as np\n",
    "import numba as nb"
   ]
  },
  {
   "cell_type": "code",
   "execution_count": 2,
   "metadata": {},
   "outputs": [],
   "source": [
    "# 晶格相关参数\n",
    "L = 4\n",
    "\n",
    "#强化学习相关参数\n",
    "c = 1       #cost\n",
    "alpha = 0.1 #学习率\n",
    "epsilon = 0.4 #随机参数"
   ]
  },
  {
   "cell_type": "code",
   "execution_count": 3,
   "metadata": {},
   "outputs": [],
   "source": [
    "S = np.ones([L, L])\n",
    "Q = np.ones([L, L, 2, 2])  #位置、位置、状态（与大多数状态相同为1,否则为0）、行动（改变为1,不变为0）"
   ]
  },
  {
   "cell_type": "code",
   "execution_count": 4,
   "metadata": {},
   "outputs": [
    {
     "name": "stdout",
     "output_type": "stream",
     "text": [
      "[[[[1.    1.   ]\n",
      "   [1.    1.   ]]\n",
      "\n",
      "  [[1.    1.   ]\n",
      "   [1.    1.1  ]]\n",
      "\n",
      "  [[1.    1.   ]\n",
      "   [1.    1.   ]]\n",
      "\n",
      "  [[1.    1.   ]\n",
      "   [1.    1.   ]]]\n",
      "\n",
      "\n",
      " [[[1.    1.   ]\n",
      "   [1.231 1.   ]]\n",
      "\n",
      "  [[1.    1.   ]\n",
      "   [1.    1.   ]]\n",
      "\n",
      "  [[1.    1.   ]\n",
      "   [1.    1.   ]]\n",
      "\n",
      "  [[1.    1.   ]\n",
      "   [1.    1.   ]]]\n",
      "\n",
      "\n",
      " [[[1.    1.   ]\n",
      "   [1.21  1.   ]]\n",
      "\n",
      "  [[1.    1.   ]\n",
      "   [1.    1.1  ]]\n",
      "\n",
      "  [[1.    1.   ]\n",
      "   [1.    1.   ]]\n",
      "\n",
      "  [[1.    1.   ]\n",
      "   [1.11  1.   ]]]\n",
      "\n",
      "\n",
      " [[[1.    1.   ]\n",
      "   [1.    1.   ]]\n",
      "\n",
      "  [[1.    1.   ]\n",
      "   [1.    1.   ]]\n",
      "\n",
      "  [[1.    1.   ]\n",
      "   [1.    1.1  ]]\n",
      "\n",
      "  [[1.    1.   ]\n",
      "   [1.1   1.   ]]]]\n"
     ]
    }
   ],
   "source": [
    "# 一次更新过程\n",
    "for _ in range(L**2):\n",
    "    x = np.random.choice(L)\n",
    "    y = np.random.choice(L)\n",
    "\n",
    "    # 判断属于大多数or少数\n",
    "    near = S[(x+1)%L, y]+S[(x-1)%L, y]+S[x, (y+1)%L]+S[x, (y-1)%L]+0.1 #将0也划分为大多数\n",
    "    stat = int((np.sign(S[x, y]*near)+1)/2)\n",
    "\n",
    "    # 选择是否翻转\n",
    "    action = 1\n",
    "    if np.random.random() < epsilon :\n",
    "        action = np.random.choice([1, 0])\n",
    "        S[x, y] = S[x, y] * (action-0.5)*2\n",
    "    else:\n",
    "        if Q[x, y, stat, 1] > Q[x, y, stat, 0]:\n",
    "            S[x, y] = S[x, y] * -1\n",
    "            action = 1\n",
    "        else: action = 0\n",
    "\n",
    "    # 更新\n",
    "    if int((np.sign(S[x, y]*near)+1)/2) == 1 : c = 0\n",
    "    else: c = 1\n",
    "\n",
    "    Q[x, y, stat, action] = Q[x, y, stat, action] - alpha*(c-Q[x, y, stat, action])\n",
    "\n",
    "print(Q)"
   ]
  },
  {
   "cell_type": "code",
   "execution_count": 5,
   "metadata": {},
   "outputs": [
    {
     "name": "stdout",
     "output_type": "stream",
     "text": [
      "1\n"
     ]
    }
   ],
   "source": [
    "print(int((np.sign(3.2)+1)/2))"
   ]
  },
  {
   "cell_type": "code",
   "execution_count": 6,
   "metadata": {},
   "outputs": [
    {
     "name": "stdout",
     "output_type": "stream",
     "text": [
      "-1\n"
     ]
    }
   ],
   "source": [
    "print(np.random.choice([1, -1]))"
   ]
  },
  {
   "cell_type": "code",
   "execution_count": null,
   "metadata": {},
   "outputs": [],
   "source": []
  }
 ],
 "metadata": {
  "kernelspec": {
   "display_name": "torch",
   "language": "python",
   "name": "python3"
  },
  "language_info": {
   "codemirror_mode": {
    "name": "ipython",
    "version": 3
   },
   "file_extension": ".py",
   "mimetype": "text/x-python",
   "name": "python",
   "nbconvert_exporter": "python",
   "pygments_lexer": "ipython3",
   "version": "3.8.13"
  },
  "orig_nbformat": 4,
  "vscode": {
   "interpreter": {
    "hash": "1d934fe860aa1be34e871b0ca34d1ec8ba420791acb927e7c991bd5b5d73d90d"
   }
  }
 },
 "nbformat": 4,
 "nbformat_minor": 2
}
